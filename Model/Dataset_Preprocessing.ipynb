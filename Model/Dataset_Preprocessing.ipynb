{
 "cells": [
  {
   "cell_type": "code",
   "execution_count": 1,
   "metadata": {},
   "outputs": [],
   "source": [
    "import chess"
   ]
  },
  {
   "cell_type": "code",
   "execution_count": 2,
   "metadata": {},
   "outputs": [],
   "source": [
    "import chess.pgn"
   ]
  },
  {
   "cell_type": "code",
   "execution_count": 3,
   "metadata": {},
   "outputs": [],
   "source": [
    "import numpy as np"
   ]
  },
  {
   "cell_type": "code",
   "execution_count": 4,
   "metadata": {},
   "outputs": [
    {
     "data": {
      "text/plain": [
       "Headers(Event='Rated Classical game', Site='https://lichess.org/j1dkb5dw', Date='????.??.??', Round='?', White='BFG9k', Black='mamalak', Result='1-0', BlackElo='1403', BlackRatingDiff='-8', ECO='C00', Opening='French Defense: Normal Variation', Termination='Normal', TimeControl='600+8', UTCDate='2012.12.31', UTCTime='23:01:03', WhiteElo='1639', WhiteRatingDiff='+5')"
      ]
     },
     "execution_count": 4,
     "metadata": {},
     "output_type": "execute_result"
    }
   ],
   "source": [
    "pgn = open(\"dataset1.pgn\")\n",
    "game = chess.pgn.read_game(pgn)\n",
    "game.headers"
   ]
  },
  {
   "cell_type": "code",
   "execution_count": 5,
   "metadata": {},
   "outputs": [],
   "source": [
    "pieces = ['k', 'q', 'r', 'b', 'n', 'p', 'K', 'Q', 'R', 'B', 'N', 'P']\n",
    "alpha = ['a', 'b', 'c', 'd', 'e', 'f', 'g', 'h']\n",
    "nums = ['1', '2', '3', '4', '5', '6', '7', '8']"
   ]
  },
  {
   "cell_type": "code",
   "execution_count": 6,
   "metadata": {},
   "outputs": [],
   "source": [
    "def move_to_output(move):\n",
    "    output = np.zeros(32)\n",
    "    output[alpha.index(move[0])] = 1\n",
    "    output[8 + nums.index(move[1])] = 1\n",
    "    output[16 + alpha.index(move[2])] = 1\n",
    "    output[24 + nums.index(move[3])] = 1\n",
    "    return output"
   ]
  },
  {
   "cell_type": "code",
   "execution_count": 7,
   "metadata": {},
   "outputs": [],
   "source": [
    "def get_moves_array(file_path):\n",
    "    pgn = open(file_path)\n",
    "    moves = []\n",
    "    cnt = 0\n",
    "    while cnt < 20000:\n",
    "        # for each game open its moves\n",
    "        game = chess.pgn.read_game(pgn)\n",
    "        if game.headers[\"WhiteElo\"] == '?' or game.headers[\"BlackElo\"] == '?':\n",
    "            continue\n",
    "        if int(game.headers[\"WhiteElo\"]) > 1700 or int(game.headers[\"WhiteElo\"]) < 1300 or int(game.headers[\"BlackElo\"]) > 1700 or int(game.headers[\"BlackElo\"]) < 1300:\n",
    "            continue\n",
    "        # print(game.headers[\"WhiteElo\"], game.headers[\"BlackElo\"])\n",
    "        game_moves = []\n",
    "        for move in game.mainline_moves():\n",
    "            game_moves.append(str(move))\n",
    "\n",
    "        moves.append(game_moves)\n",
    "        cnt += 1\n",
    "        if cnt % 1000 == 0:\n",
    "            print(f\"{cnt} done! \", end = ' ')\n",
    "\n",
    "    return moves"
   ]
  },
  {
   "cell_type": "code",
   "execution_count": 8,
   "metadata": {},
   "outputs": [
    {
     "name": "stdout",
     "output_type": "stream",
     "text": [
      "1000 done!  2000 done!  3000 done!  4000 done!  5000 done!  6000 done!  7000 done!  8000 done!  9000 done!  10000 done!  11000 done!  12000 done!  13000 done!  14000 done!  15000 done!  16000 done!  17000 done!  18000 done!  19000 done!  20000 done!  "
     ]
    }
   ],
   "source": [
    "moves = get_moves_array(\"dataset1.pgn\")"
   ]
  },
  {
   "cell_type": "code",
   "execution_count": 9,
   "metadata": {},
   "outputs": [],
   "source": [
    "b = chess.Board()\n",
    "fen = b.fen()\n",
    "fen_data = fen.split(' ')[0]\n",
    "# print(fen_data)\n",
    "fen_array = fen_data.split('/')\n",
    "# print(fen_array)\n",
    "board = np.zeros((12, 8, 8))\n",
    "i = j = 0\n",
    "for row in fen_array:\n",
    "    for ch in row:\n",
    "        if ch in pieces:\n",
    "            board[pieces.index(ch)][i][j] = 1\n",
    "            # print(ch, pieces.index(ch))\n",
    "            j += 1\n",
    "        else:\n",
    "            j += int(ch)\n",
    "    i += 1\n",
    "    j = 0\n",
    "# print(pieces)\n",
    "# init_board = board.ravel()\n",
    "init_board = board\n",
    "np.save('board', init_board)"
   ]
  },
  {
   "cell_type": "code",
   "execution_count": 10,
   "metadata": {},
   "outputs": [],
   "source": [
    "def push_move_to_board(board, move):\n",
    "    alpha1 = alpha.index(move[0])\n",
    "    alpha2 = alpha.index(move[2])\n",
    "    num1 = 7 - nums.index(move[1])\n",
    "    num2 = 7 - nums.index(move[3])\n",
    "    p = 0\n",
    "    for i in range(12):\n",
    "        # if board[64*i+num1*8+alpha1] == 1:\n",
    "        if board[i, num1, alpha1] == 1:\n",
    "            p = i\n",
    "            break\n",
    "    # print(p)\n",
    "    # board[64*p+num1*8+alpha1] = 0\n",
    "    board[i, num1, alpha1] = 0\n",
    "    for i in range(12):\n",
    "        # if board[64*i+num2*8+alpha2] == 1:\n",
    "        if board[i, num2, alpha2] == 1:\n",
    "            # board[64*i+num2*8+alpha2] = 0\n",
    "            board[i, num2, alpha2] = 0\n",
    "            break\n",
    "    # board[64*p+num2*8+alpha2] = 1\n",
    "    board[p, num2, alpha2] = 1\n",
    "    return board"
   ]
  },
  {
   "cell_type": "code",
   "execution_count": 16,
   "metadata": {},
   "outputs": [],
   "source": [
    "def add_games(moves):\n",
    "    X = []\n",
    "    y = []\n",
    "    cnt = 0\n",
    "    # df = pd.DataFrame(columns = np.arange(32))\n",
    "    for move_list in moves:\n",
    "        board = chess.Board()\n",
    "        l = 0\n",
    "        game_board = init_board.copy()\n",
    "        capt, cast = 0, 0\n",
    "        for move in move_list:\n",
    "            # get its position and move data\n",
    "            # print(board.fen())\n",
    "            pos_data = game_board.ravel()\n",
    "            xtras = np.zeros(10)\n",
    "            # print(pos_data)\n",
    "            # opposite pieces\n",
    "            b, kn, r, p, q = '', '', '', '', ''\n",
    "            if l % 2:\n",
    "#                 pos_data.append(0)\n",
    "                xtras[0] = 0\n",
    "                q = bin(board.pieces_mask(chess.QUEEN, 0))\n",
    "                b = bin(board.pieces_mask(chess.BISHOP, 0))\n",
    "                kn = bin(board.pieces_mask(chess.KNIGHT, 0))\n",
    "                r = bin(board.pieces_mask(chess.ROOK, 0))\n",
    "                p = bin(board.pieces_mask(chess.PAWN, 0))\n",
    "            else:\n",
    "#                 pos_data.append(1)\n",
    "                xtras[0] = 1\n",
    "                q = bin(board.pieces_mask(chess.QUEEN, 1))\n",
    "                b = bin(board.pieces_mask(chess.BISHOP, 1))\n",
    "                kn = bin(board.pieces_mask(chess.KNIGHT, 1))\n",
    "                r = bin(board.pieces_mask(chess.ROOK, 1))\n",
    "                p = bin(board.pieces_mask(chess.PAWN, 1))\n",
    "            # print(pos_data)\n",
    "            total = 0\n",
    "            for c in q[2:]:\n",
    "                total += int(c)\n",
    "            xtras[1] = total\n",
    "            \n",
    "            total = 0\n",
    "            for c in b[2:]:\n",
    "                total += int(c)\n",
    "#             pos_data.append(total/2)\n",
    "            xtras[2] = total/2\n",
    "\n",
    "            total = 0\n",
    "            for c in kn[2:]:\n",
    "                total += int(c)\n",
    "#             pos_data.append(total/2)\n",
    "            xtras[3] = total/2\n",
    "\n",
    "            total = 0\n",
    "            for c in r[2:]:\n",
    "                total += int(c)\n",
    "#             pos_data.append(total/2)\n",
    "            xtras[4] = total/2\n",
    "\n",
    "            total = 0\n",
    "            for c in p[2:]:\n",
    "                total += int(c)\n",
    "#             pos_data.append(total/8)\n",
    "            xtras[5] = total/8\n",
    "            \n",
    "            xtras[6] = board.is_check()\n",
    "#             pos_data.append(board.is_check())\n",
    "            \n",
    "#             try:\n",
    "            xtras[7:9] = (capt, cast)\n",
    "            capt = board.is_capture(board.parse_uci(move))\n",
    "            cast = board.is_castling(board.parse_uci(move))\n",
    "            \n",
    "            xtras[9] = len(list(board.legal_moves))/50\n",
    "            \n",
    "            pos_data = np.append(pos_data, xtras)\n",
    "            # xtras[0, 4] = total/4\n",
    "            # print(pos_data)\n",
    "            # pos_data = np.append(pos_data, xtras.reshape(1, 8, 8), axis = 0)\n",
    "            # print(pos_data)\n",
    "            # if l == 0:\n",
    "            #     print(pos_data)\n",
    "            # pos_data = np.zeros((12, 8, 8))\n",
    "            move_data = move_to_output(move)\n",
    "            # push the move to board\n",
    "            board.push_san(move)\n",
    "            game_board = push_move_to_board(game_board.copy(), str(move))\n",
    "            # add to the dataframes\n",
    "            # df.loc[l] = move_data.reshape(768,)\n",
    "            pos_data = np.array(pos_data)\n",
    "            X.append(pos_data)\n",
    "            # X.append(pos_data)\n",
    "            y.append(move_data)\n",
    "            l += 1\n",
    "\n",
    "        cnt += 1\n",
    "        if cnt % 1000 == 0:\n",
    "            print(f\"{cnt} done! \", end = ' ')\n",
    "        if cnt % 10000 == 0:\n",
    "            print(\"\\n\")\n",
    "\n",
    "    return X, y"
   ]
  },
  {
   "cell_type": "code",
   "execution_count": 17,
   "metadata": {},
   "outputs": [
    {
     "name": "stdout",
     "output_type": "stream",
     "text": [
      "1000 done!  2000 done!  3000 done!  4000 done!  5000 done!  6000 done!  7000 done!  8000 done!  9000 done!  10000 done!  \n",
      "\n",
      "11000 done!  12000 done!  13000 done!  14000 done!  15000 done!  16000 done!  17000 done!  18000 done!  19000 done!  20000 done!  \n",
      "\n"
     ]
    }
   ],
   "source": [
    "X_out, y_out = add_games(moves)"
   ]
  },
  {
   "cell_type": "code",
   "execution_count": 18,
   "metadata": {},
   "outputs": [
    {
     "data": {
      "text/plain": [
       "((1321933, 778), (1321933, 32))"
      ]
     },
     "execution_count": 18,
     "metadata": {},
     "output_type": "execute_result"
    }
   ],
   "source": [
    "X = np.array(X_out)\n",
    "y = np.array(y_out)\n",
    "X.shape, y.shape"
   ]
  },
  {
   "cell_type": "code",
   "execution_count": 17,
   "metadata": {},
   "outputs": [],
   "source": [
    "np.save('X', X)\n",
    "np.save('Y', y)"
   ]
  },
  {
   "cell_type": "code",
   "execution_count": 13,
   "metadata": {},
   "outputs": [],
   "source": [
    "board = chess.Board()"
   ]
  }
 ],
 "metadata": {
  "kernelspec": {
   "display_name": "Python 3",
   "language": "python",
   "name": "python3"
  },
  "language_info": {
   "codemirror_mode": {
    "name": "ipython",
    "version": 3
   },
   "file_extension": ".py",
   "mimetype": "text/x-python",
   "name": "python",
   "nbconvert_exporter": "python",
   "pygments_lexer": "ipython3",
   "version": "3.7.6"
  }
 },
 "nbformat": 4,
 "nbformat_minor": 4
}
